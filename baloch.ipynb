{
 "cells": [
  {
   "cell_type": "code",
   "execution_count": 1,
   "id": "b85ac867",
   "metadata": {},
   "outputs": [],
   "source": [
    "import queue\n",
    "import threading\n",
    "import time\n",
    "import socket\n",
    "import sys \n",
    "import pickle\n",
    "import os\n",
    "import numpy as np"
   ]
  },
  {
   "cell_type": "code",
   "execution_count": 2,
   "id": "20c18a0e",
   "metadata": {},
   "outputs": [],
   "source": [
    "votersUpper =np.zeros(100, dtype=int)\n",
    "votersLower =np.zeros(100, dtype=int)\n"
   ]
  },
  {
   "cell_type": "code",
   "execution_count": 3,
   "id": "c153f0f4",
   "metadata": {},
   "outputs": [],
   "source": [
    "def addVote(voteData, sock):\n",
    "    #voteData = (msg, addr)\n",
    "    vote = pickle.loads(voteData[0])\n",
    "    \n",
    "    if(voteData[1][1] == 12301):\n",
    "        if votersLower[vote['nic']] == 0: \n",
    "            votersLower[vote['nic']] = vote['vote']\n",
    "            msgtoFed = {'vote': vote, 'subServer': \"lower\", 'provServer': 'baloch'}\n",
    "            sock.sendto(pickle.dumps(msgtoFed), ('localhost', 12345))\n",
    "    if voteData[1][1] == 12302:\n",
    "        if votersUpper[vote['nic']] == 0: \n",
    "            votersUpper[vote['nic']] = vote['vote']\n",
    "            msgtoFed = {'vote': vote, 'subServer': \"upper\", 'provServer': 'baloch'}\n",
    "            sock.sendto(pickle.dumps(msgtoFed), ('localhost', 12345))"
   ]
  },
  {
   "cell_type": "code",
   "execution_count": null,
   "id": "5ee46626",
   "metadata": {},
   "outputs": [
    {
     "name": "stdout",
     "output_type": "stream",
     "text": [
      "Balochistan server socket is listening\n",
      "Got connection from ('127.0.0.1', 12301)\n",
      "{'nic': 28, 'vote': 2}\n"
     ]
    }
   ],
   "source": [
    "\n",
    "s = socket.socket(socket.AF_INET, socket.SOCK_DGRAM)\n",
    "\n",
    "# 12345 mainServer port\n",
    "s.bind(('localhost', 54320))\n",
    "    \n",
    "print (\"Balochistan server socket is listening\")\n",
    "for i in range(15):\n",
    "#     print(votersUpper) \n",
    "#     print(votersLower)\n",
    "    msg,addr = s.recvfrom(1000)\n",
    "    addVote((msg,addr), s)\n",
    "    print ('Got connection from', addr )\n",
    "    print(pickle.loads(msg))\n",
    "s.close()"
   ]
  },
  {
   "cell_type": "code",
   "execution_count": null,
   "id": "0212a27d",
   "metadata": {},
   "outputs": [],
   "source": []
  }
 ],
 "metadata": {
  "kernelspec": {
   "display_name": "Python 3",
   "language": "python",
   "name": "python3"
  },
  "language_info": {
   "codemirror_mode": {
    "name": "ipython",
    "version": 3
   },
   "file_extension": ".py",
   "mimetype": "text/x-python",
   "name": "python",
   "nbconvert_exporter": "python",
   "pygments_lexer": "ipython3",
   "version": "3.8.8"
  }
 },
 "nbformat": 4,
 "nbformat_minor": 5
}
