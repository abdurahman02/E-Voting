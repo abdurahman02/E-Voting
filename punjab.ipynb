{
 "cells": [
  {
   "cell_type": "code",
   "execution_count": 1,
   "id": "3d8a2c7f",
   "metadata": {},
   "outputs": [],
   "source": [
    "import queue\n",
    "import threading\n",
    "import time\n",
    "import socket\n",
    "import sys \n",
    "import pickle\n",
    "import os\n",
    "import numpy as np"
   ]
  },
  {
   "cell_type": "code",
   "execution_count": 2,
   "id": "44c472a6",
   "metadata": {},
   "outputs": [],
   "source": [
    "votersUpper =np.zeros(100, dtype=int)\n",
    "votersLower =np.zeros(100, dtype=int)\n"
   ]
  },
  {
   "cell_type": "code",
   "execution_count": 3,
   "id": "e2b45197",
   "metadata": {},
   "outputs": [],
   "source": [
    "def addVote(voteData, sock):\n",
    "    #voteData = (msg, addr)\n",
    "    vote = pickle.loads(voteData[0])\n",
    "    \n",
    "    if(voteData[1][1] == 12321):\n",
    "        if votersLower[vote['nic']] == 0: \n",
    "            votersLower[vote['nic']] = vote['vote']\n",
    "            msgtoFed = {'vote': vote, 'subServer': \"lower\", 'provServer': 'punjab'}\n",
    "            sock.sendto(pickle.dumps(msgtoFed), ('localhost', 12345))\n",
    "    if voteData[1][1] == 12322:\n",
    "        if votersUpper[vote['nic']] == 0: \n",
    "            votersUpper[vote['nic']] = vote['vote']\n",
    "            msgtoFed = {'vote': vote, 'subServer': \"upper\", 'provServer': 'punjab'}\n",
    "            sock.sendto(pickle.dumps(msgtoFed), ('localhost', 12345))"
   ]
  },
  {
   "cell_type": "code",
   "execution_count": null,
   "id": "aa6dcb32",
   "metadata": {},
   "outputs": [
    {
     "name": "stdout",
     "output_type": "stream",
     "text": [
      "Punjab server socket is listening\n",
      "Got connection from ('127.0.0.1', 12321)\n",
      "{'nic': 23, 'vote': 2}\n"
     ]
    }
   ],
   "source": [
    "\n",
    "s = socket.socket(socket.AF_INET, socket.SOCK_DGRAM)\n",
    "\n",
    "# 12345 mainServer port\n",
    "s.bind(('localhost', 54322))\n",
    "    \n",
    "print (\"Punjab server socket is listening\")\n",
    "for i in range(15):\n",
    "#     print(votersUpper) \n",
    "#     print(votersLower)\n",
    "    msg,addr = s.recvfrom(1000)\n",
    "    addVote((msg,addr), s)\n",
    "    print ('Got connection from', addr )\n",
    "    print(pickle.loads(msg))\n",
    "    \n",
    "s.close()"
   ]
  }
 ],
 "metadata": {
  "kernelspec": {
   "display_name": "Python 3",
   "language": "python",
   "name": "python3"
  },
  "language_info": {
   "codemirror_mode": {
    "name": "ipython",
    "version": 3
   },
   "file_extension": ".py",
   "mimetype": "text/x-python",
   "name": "python",
   "nbconvert_exporter": "python",
   "pygments_lexer": "ipython3",
   "version": "3.8.8"
  }
 },
 "nbformat": 4,
 "nbformat_minor": 5
}
