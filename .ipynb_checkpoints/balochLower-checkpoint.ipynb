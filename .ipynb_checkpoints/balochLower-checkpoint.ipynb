{
 "cells": [
  {
   "cell_type": "code",
   "execution_count": 1,
   "id": "bd04b4d2",
   "metadata": {},
   "outputs": [],
   "source": [
    "import threading\n",
    "import socket\n",
    "import sys \n",
    "import pickle\n",
    "import os\n",
    "import numpy as np"
   ]
  },
  {
   "cell_type": "code",
   "execution_count": 4,
   "id": "5cbe4397",
   "metadata": {},
   "outputs": [
    {
     "name": "stdout",
     "output_type": "stream",
     "text": [
      "{'nic': 86, 'vote': 1}\n",
      "('127.0.0.1', 64008)\n"
     ]
    }
   ],
   "source": [
    "threads=[]\n",
    "s = socket.socket(socket.AF_INET, socket.SOCK_DGRAM)\n",
    "s.bind(('localhost', 12301))\n",
    "\n",
    "# 1:pti\n",
    "# 2:pmln\n",
    "msg,addr = s.recvfrom(1000)\n",
    "print(pickle.loads(msg))\n",
    "print(addr)"
   ]
  },
  {
   "cell_type": "code",
   "execution_count": null,
   "id": "7980e7ad",
   "metadata": {},
   "outputs": [],
   "source": []
  }
 ],
 "metadata": {
  "kernelspec": {
   "display_name": "Python 3",
   "language": "python",
   "name": "python3"
  },
  "language_info": {
   "codemirror_mode": {
    "name": "ipython",
    "version": 3
   },
   "file_extension": ".py",
   "mimetype": "text/x-python",
   "name": "python",
   "nbconvert_exporter": "python",
   "pygments_lexer": "ipython3",
   "version": "3.8.8"
  }
 },
 "nbformat": 4,
 "nbformat_minor": 5
}
