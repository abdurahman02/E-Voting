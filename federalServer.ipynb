{
 "cells": [
  {
   "cell_type": "code",
   "execution_count": 1,
   "id": "f4af9db3",
   "metadata": {},
   "outputs": [],
   "source": [
    "import queue\n",
    "import threading\n",
    "import time\n",
    "import socket\n",
    "import sys \n",
    "import pickle\n",
    "import os\n",
    "import numpy as np"
   ]
  },
  {
   "cell_type": "code",
   "execution_count": 2,
   "id": "192366c7",
   "metadata": {},
   "outputs": [],
   "source": [
    "users=np.zeros(100, dtype=int)\n",
    "votes = {\n",
    "    'baloch':{'upper': np.zeros(100, dtype=int), 'lower':np.zeros(100, dtype=int)},\n",
    "    'sindh':{'upper': np.zeros(100, dtype=int), 'lower':np.zeros(100, dtype=int)},\n",
    "    'punjab':{'upper': np.zeros(100, dtype=int), 'lower':np.zeros(100, dtype=int)},\n",
    "    'kpk':{'upper': np.zeros(100, dtype=int), 'lower':np.zeros(100, dtype=int)}\n",
    "}\n",
    "\n",
    "votes['kpk']['lower'][6] = 1\n",
    "print(votes['kpk']['lower'])"
   ]
  },
  {
   "cell_type": "code",
   "execution_count": 3,
   "id": "f1bc6877",
   "metadata": {},
   "outputs": [
    {
     "name": "stdout",
     "output_type": "stream",
     "text": [
      "[0 0 0 0 0 0 1 0 0 0 0 0 0 0 0 0 0 0 0 0 0 0 0 0 0 0 0 0 0 0 0 0 0 0 0 0 0\n",
      " 0 0 0 0 0 0 0 0 0 0 0 0 0 0 0 0 0 0 0 0 0 0 0 0 0 0 0 0 0 0 0 0 0 0 0 0 0\n",
      " 0 0 0 0 0 0 0 0 0 0 0 0 0 0 0 0 0 0 0 0 0 0 0 0 0 0]\n"
     ]
    }
   ],
   "source": [
    "if 85 < len(votes['kpk']['lower']):\n",
    "    print(votes['kpk']['lower'])"
   ]
  },
  {
   "cell_type": "code",
   "execution_count": 4,
   "id": "1af575fc",
   "metadata": {},
   "outputs": [],
   "source": [
    "def addVote(voteinfo):\n",
    "    provserv = voteinfo['provServer']\n",
    "    subserv = voteinfo['subServer']\n",
    "    nic = voteinfo['vote']['nic']\n",
    "    castedVote = voteinfo['vote']['vote']\n",
    "    \n",
    "    votes[provserv][subserv][nic] = castedVote\n",
    "#     print(votes)"
   ]
  },
  {
   "cell_type": "code",
   "execution_count": null,
   "id": "4af71426",
   "metadata": {},
   "outputs": [
    {
     "name": "stdout",
     "output_type": "stream",
     "text": [
      "Federal socket is listening\n"
     ]
    }
   ],
   "source": [
    "\n",
    "s = socket.socket(socket.AF_INET, socket.SOCK_DGRAM)\n",
    "\n",
    "# 12345 mainServer port\n",
    "s.bind(('localhost', 12345))\n",
    " \n",
    "print (\"Federal socket is listening\")\n",
    "\n",
    "for i in range(15):\n",
    "    msg, addr = s.recvfrom(1000)\n",
    "    print ('Got connection from', addr )\n",
    "    print(pickle.loads(msg))\n",
    "    addVote(pickle.loads(msg))\n",
    "    \n",
    "s.close()"
   ]
  }
 ],
 "metadata": {
  "kernelspec": {
   "display_name": "Python 3",
   "language": "python",
   "name": "python3"
  },
  "language_info": {
   "codemirror_mode": {
    "name": "ipython",
    "version": 3
   },
   "file_extension": ".py",
   "mimetype": "text/x-python",
   "name": "python",
   "nbconvert_exporter": "python",
   "pygments_lexer": "ipython3",
   "version": "3.8.8"
  }
 },
 "nbformat": 4,
 "nbformat_minor": 5
}
