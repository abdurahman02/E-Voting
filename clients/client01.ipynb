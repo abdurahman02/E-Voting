{
 "cells": [
  {
   "cell_type": "code",
   "execution_count": 1,
   "id": "a047db22",
   "metadata": {},
   "outputs": [],
   "source": [
    "import threading\n",
    "import socket\n",
    "import sys \n",
    "import pickle\n",
    "import os\n",
    "import numpy as np"
   ]
  },
  {
   "cell_type": "code",
   "execution_count": 4,
   "id": "ca7ab7a9",
   "metadata": {},
   "outputs": [
    {
     "data": {
      "text/plain": [
       "{'nic': 23, 'vote': 2}"
      ]
     },
     "execution_count": 4,
     "metadata": {},
     "output_type": "execute_result"
    }
   ],
   "source": [
    "regionalServerAddr = {\n",
    "    'balochlower': 12301,\n",
    "    'balochUpper': 12302,\n",
    "    'sindhlower': 12311,\n",
    "    'sindhUpper': 12312,\n",
    "    'punjablower': 12321,\n",
    "    'punjabUpper': 12322,\n",
    "    'kpklower': 12331,\n",
    "    'kpkUpper': 12332,\n",
    "}\n",
    "\n",
    "# 1:pti\n",
    "# 2:pmln\n",
    "vote = 2\n",
    "nic = 23\n",
    "cast = {'nic':nic, 'vote': vote}\n",
    "Region = \"punjablower\"\n",
    "regionalServerAddr[Region]\n",
    "pickle.loads(pickle.dumps(cast))"
   ]
  },
  {
   "cell_type": "code",
   "execution_count": 5,
   "id": "d70451a8",
   "metadata": {},
   "outputs": [
    {
     "name": "stdout",
     "output_type": "stream",
     "text": [
      "vote successfully casted\n"
     ]
    }
   ],
   "source": [
    "s = socket.socket(socket.AF_INET, socket.SOCK_DGRAM)\n",
    "\n",
    "cast = {'nic':nic, 'vote': vote}\n",
    "s.sendto(pickle.dumps(cast), ('localhost', regionalServerAddr[Region]))\n",
    "print(pickle.loads(s.recvfrom(1000)[0]))\n",
    "\n",
    "s.close()\n"
   ]
  },
  {
   "cell_type": "code",
   "execution_count": null,
   "id": "1c27e4a8",
   "metadata": {},
   "outputs": [],
   "source": []
  }
 ],
 "metadata": {
  "kernelspec": {
   "display_name": "Python 3",
   "language": "python",
   "name": "python3"
  },
  "language_info": {
   "codemirror_mode": {
    "name": "ipython",
    "version": 3
   },
   "file_extension": ".py",
   "mimetype": "text/x-python",
   "name": "python",
   "nbconvert_exporter": "python",
   "pygments_lexer": "ipython3",
   "version": "3.8.8"
  }
 },
 "nbformat": 4,
 "nbformat_minor": 5
}
