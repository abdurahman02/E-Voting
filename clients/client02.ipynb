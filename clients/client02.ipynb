{
 "cells": [
  {
   "cell_type": "code",
   "execution_count": 3,
   "id": "4bfc4bd8",
   "metadata": {},
   "outputs": [],
   "source": [
    "import threading\n",
    "import socket\n",
    "import sys \n",
    "import pickle\n",
    "import os\n",
    "import numpy as np"
   ]
  },
  {
   "cell_type": "code",
   "execution_count": 10,
   "id": "9c3d7263",
   "metadata": {},
   "outputs": [
    {
     "data": {
      "text/plain": [
       "{'nic': 28, 'vote': 2}"
      ]
     },
     "execution_count": 10,
     "metadata": {},
     "output_type": "execute_result"
    }
   ],
   "source": [
    "regionalServerAddr = {\n",
    "    'balochlower': 12301,\n",
    "    'balochUpper': 12302,\n",
    "    'sindhlower': 12311,\n",
    "    'sindhUpper': 12312,\n",
    "    'punjablower': 12321,\n",
    "    'punjabUpper': 12322,\n",
    "    'kpklower': 12331,\n",
    "    'kpkUpper': 12332,\n",
    "}\n",
    "\n",
    "# 1:pti\n",
    "# 2:pmln\n",
    "vote = 2\n",
    "nic = 28\n",
    "cast = {'nic':nic, 'vote': vote}\n",
    "Region = \"kpkUpper\"\n",
    "regionalServerAddr[Region]\n",
    "pickle.loads(pickle.dumps(cast))"
   ]
  },
  {
   "cell_type": "code",
   "execution_count": 11,
   "id": "a62cc439",
   "metadata": {},
   "outputs": [
    {
     "name": "stdout",
     "output_type": "stream",
     "text": [
      "vote successfully casted\n"
     ]
    }
   ],
   "source": [
    "s = socket.socket(socket.AF_INET, socket.SOCK_DGRAM)\n",
    "\n",
    "cast = {'nic':nic, 'vote': vote}\n",
    "s.sendto(pickle.dumps(cast), ('localhost', regionalServerAddr[Region]))\n",
    "print(pickle.loads(s.recvfrom(1000)[0]))\n",
    "\n",
    "s.close()\n"
   ]
  },
  {
   "cell_type": "code",
   "execution_count": null,
   "id": "eda87649",
   "metadata": {},
   "outputs": [],
   "source": []
  }
 ],
 "metadata": {
  "kernelspec": {
   "display_name": "Python 3",
   "language": "python",
   "name": "python3"
  },
  "language_info": {
   "codemirror_mode": {
    "name": "ipython",
    "version": 3
   },
   "file_extension": ".py",
   "mimetype": "text/x-python",
   "name": "python",
   "nbconvert_exporter": "python",
   "pygments_lexer": "ipython3",
   "version": "3.8.8"
  }
 },
 "nbformat": 4,
 "nbformat_minor": 5
}
