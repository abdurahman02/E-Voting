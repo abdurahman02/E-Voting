{
 "cells": [
  {
   "cell_type": "code",
   "execution_count": 1,
   "id": "1da88792",
   "metadata": {},
   "outputs": [],
   "source": [
    "import threading\n",
    "import socket\n",
    "import sys \n",
    "import pickle\n",
    "import os\n",
    "import numpy as np"
   ]
  },
  {
   "cell_type": "code",
   "execution_count": 2,
   "id": "048164ea",
   "metadata": {},
   "outputs": [
    {
     "data": {
      "text/plain": [
       "array([0, 0, 0, 0, 0, 0, 0, 0, 0, 0, 0, 0, 0, 0, 0, 0, 0, 0, 0, 0, 0, 0,\n",
       "       0, 0, 0, 0, 0, 0, 0, 0, 0, 0, 0, 0, 0, 0, 0, 0, 0, 0, 0, 0, 0, 0,\n",
       "       0, 0, 0, 0, 0, 0, 0, 0, 0, 0, 0, 0, 0, 0, 0, 0, 0, 0, 0, 0, 0, 0,\n",
       "       0, 0, 0, 0, 0, 0, 0, 0, 0, 0, 0, 0, 0, 0, 0, 0, 0, 0, 0, 0, 0, 0,\n",
       "       0, 0, 0, 0, 0, 0, 0, 0, 0, 0, 0, 0])"
      ]
     },
     "execution_count": 2,
     "metadata": {},
     "output_type": "execute_result"
    }
   ],
   "source": [
    "voters =np.zeros(100, dtype=int)\n",
    "voters"
   ]
  },
  {
   "cell_type": "code",
   "execution_count": null,
   "id": "47598d95",
   "metadata": {},
   "outputs": [
    {
     "name": "stdout",
     "output_type": "stream",
     "text": [
      "\n",
      "****Upper Punjab Regional Server is Listening****\n",
      "\n"
     ]
    }
   ],
   "source": [
    "s = socket.socket(socket.AF_INET, socket.SOCK_DGRAM)\n",
    "s.bind(('localhost', 12322))\n",
    "for i in range(len(voters)*2):\n",
    "    print(\"\\n****Upper Punjab Regional Server is Listening****\\n\")\n",
    "    msg,addr = s.recvfrom(1000)\n",
    "    data = pickle.loads(msg)\n",
    "    print(\"Got Connection from: \",addr)\n",
    "    if data['nic'] >= len(voters):\n",
    "        s.sendto(pickle.dumps(\"vote not registered\"), addr)\n",
    "        continue\n",
    "    if voters[data['nic']] != 0:\n",
    "        s.sendto(pickle.dumps(\"vote already casted\"), addr)\n",
    "        continue\n",
    "    voters[data['nic']] = data['vote']\n",
    "    s.sendto(pickle.dumps(\"vote successfully casted\"), addr)\n",
    "    print(\"Vote: \",data)\n",
    "    s.sendto(msg, ('localhost',54322))\n",
    "    \n",
    "s.close()"
   ]
  }
 ],
 "metadata": {
  "kernelspec": {
   "display_name": "Python 3",
   "language": "python",
   "name": "python3"
  },
  "language_info": {
   "codemirror_mode": {
    "name": "ipython",
    "version": 3
   },
   "file_extension": ".py",
   "mimetype": "text/x-python",
   "name": "python",
   "nbconvert_exporter": "python",
   "pygments_lexer": "ipython3",
   "version": "3.8.8"
  }
 },
 "nbformat": 4,
 "nbformat_minor": 5
}
